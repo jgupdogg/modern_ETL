{
 "cells": [
  {
   "cell_type": "markdown",
   "metadata": {},
   "source": [
    "# Simple Solana Top Traders Explorer\n",
    "\n",
    "This notebook provides a simple way to browse the **gold layer** `top_traders` table in MinIO.\n",
    "\n",
    "## Quick Setup\n",
    "- **MinIO Endpoint**: localhost:9000 (internal: minio:9000)  \n",
    "- **Credentials**: minioadmin / minioadmin123\n",
    "- **Bucket**: solana-data\n",
    "- **Table**: gold/top_traders"
   ]
  },
  {
   "cell_type": "code",
   "source": "# Debug: Check connection and file access\nimport duckdb\n\n# Create connection for debugging\ndebug_conn = duckdb.connect()\n\nprint(\"🔍 Debug: Testing MinIO connection...\")\n\ntry:\n    # Install and load httpfs extension\n    debug_conn.execute(\"INSTALL httpfs;\")\n    debug_conn.execute(\"LOAD httpfs;\")\n    \n    # Configure MinIO credentials\n    debug_conn.execute(\"SET s3_endpoint='localhost:9000';\")\n    debug_conn.execute(\"SET s3_access_key_id='minioadmin';\")\n    debug_conn.execute(\"SET s3_secret_access_key='minioadmin123';\")\n    debug_conn.execute(\"SET s3_use_ssl=false;\")\n    debug_conn.execute(\"SET s3_url_style='path';\")\n    \n    print(\"✅ Extensions loaded and configured\")\n    \n    # Test direct file access instead of listing\n    print(\"\\n🧪 Testing query patterns...\")\n    \n    # Test single star pattern (should fail)\n    try:\n        single_star = debug_conn.execute(\"SELECT COUNT(*) FROM read_parquet('s3://solana-data/gold/top_traders/*.parquet')\").fetchone()[0]\n        print(f\"✅ Single * pattern works: {single_star} records\")\n    except Exception as e:\n        print(f\"❌ Single * pattern failed: {str(e)[:100]}...\")\n    \n    # Test double star pattern (should work for partitioned data)\n    try:\n        double_star = debug_conn.execute(\"SELECT COUNT(*) FROM read_parquet('s3://solana-data/gold/top_traders/**/*.parquet')\").fetchone()[0]\n        print(f\"✅ Double ** pattern works: {double_star} records\")\n    except Exception as e:\n        print(f\"❌ Double ** pattern failed: {str(e)[:100]}...\")\n        \n    # Test if any parquet files exist at all\n    try:\n        any_parquet = debug_conn.execute(\"SELECT COUNT(*) FROM read_parquet('s3://solana-data/**/*.parquet')\").fetchone()[0]\n        print(f\"✅ Found total parquet files in bucket: {any_parquet}\")\n    except Exception as e:\n        print(f\"❌ No parquet files accessible: {str(e)[:100]}...\")\n        \nexcept Exception as e:\n    print(f\"❌ Connection setup failed: {e}\")\n    print(\"\\n💡 Troubleshooting steps:\")\n    print(\"1. Check if containers are running: docker-compose ps\")\n    print(\"2. Check MinIO service: docker-compose logs minio\")\n    print(\"3. Verify MinIO is accessible: curl http://localhost:9000/minio/health/live\")\n\ndebug_conn.close()\nprint(\"\\n\" + \"=\"*50)",
   "metadata": {},
   "outputs": []
  },
  {
   "cell_type": "code",
   "metadata": {},
   "outputs": [],
   "source": "# Simple setup - just DuckDB\nimport duckdb\n\n# Create connection\nconn = duckdb.connect()\n\n# Load S3 extension and configure for MinIO\nconn.execute(\"INSTALL httpfs;\")\nconn.execute(\"LOAD httpfs;\")\n\n# Configure MinIO credentials\nconn.execute(\"SET s3_endpoint='localhost:9000';\")\nconn.execute(\"SET s3_access_key_id='minioadmin';\")\nconn.execute(\"SET s3_secret_access_key='minioadmin123';\")\nconn.execute(\"SET s3_use_ssl=false;\")\nconn.execute(\"SET s3_url_style='path';\")\n\nprint(\"✅ DuckDB connected to MinIO lakehouse!\")\n\n# Test connection by listing S3 buckets\ntry:\n    buckets = conn.execute(\"SELECT * FROM duckdb_s3_ls('s3://')\").df()\n    print(f\"Available buckets: {list(buckets['name'])}\")\nexcept Exception as e:\n    print(f\"Warning: Could not list buckets: {e}\")"
  },
  {
   "cell_type": "code",
   "metadata": {},
   "outputs": [],
   "source": "# Browse top traders table\n# Note: Data is partitioned by year/month/performance_tier\nquery = \"\"\"\nSELECT * \nFROM read_parquet('s3://solana-data/gold/top_traders/**/*.parquet')\nLIMIT 10\n\"\"\"\n\n# Execute and display\nresult = conn.execute(query).df()\nprint(f\"Found {len(result)} top traders (showing first 10)\")\nprint(f\"Columns: {list(result.columns)}\")\nresult"
  },
  {
   "cell_type": "markdown",
   "metadata": {},
   "source": [
    "## Top Traders Analysis"
   ]
  },
  {
   "cell_type": "code",
   "metadata": {},
   "outputs": [],
   "source": "# Get total count of top traders\ncount_query = \"\"\"\nSELECT COUNT(*) as total_traders\nFROM read_parquet('s3://solana-data/gold/top_traders/**/*.parquet')\n\"\"\"\n\ntotal = conn.execute(count_query).fetchone()[0]\nprint(f\"Total top traders in gold layer: {total}\")"
  },
  {
   "cell_type": "code",
   "metadata": {},
   "outputs": [],
   "source": "# Top 5 traders by total PnL\ntop_pnl_query = \"\"\"\nSELECT \n    wallet_address,\n    total_pnl_all,\n    roi_all,\n    trade_count_all,\n    win_rate_all\nFROM read_parquet('s3://solana-data/gold/top_traders/**/*.parquet')\nORDER BY total_pnl_all DESC\nLIMIT 5\n\"\"\"\n\ntop_traders = conn.execute(top_pnl_query).df()\nprint(\"🏆 Top 5 Traders by Total PnL:\")\ntop_traders"
  },
  {
   "cell_type": "code",
   "metadata": {},
   "outputs": [],
   "source": "# Performance tiers distribution\ntier_query = \"\"\"\nSELECT \n    performance_tier,\n    COUNT(*) as trader_count,\n    AVG(total_pnl_all) as avg_pnl,\n    AVG(roi_all) as avg_roi,\n    AVG(win_rate_all) as avg_win_rate\nFROM read_parquet('s3://solana-data/gold/top_traders/**/*.parquet')\nGROUP BY performance_tier\nORDER BY \n    CASE \n        WHEN performance_tier = 'elite' THEN 1\n        WHEN performance_tier = 'strong' THEN 2\n        WHEN performance_tier = 'promising' THEN 3\n        ELSE 4\n    END\n\"\"\"\n\ntiers = conn.execute(tier_query).df()\nprint(\"📊 Performance Tiers:\")\ntiers"
  },
  {
   "cell_type": "code",
   "metadata": {},
   "outputs": [],
   "source": "# Recent trader additions\nrecent_query = \"\"\"\nSELECT \n    wallet_address,\n    first_seen_date,\n    last_updated,\n    total_pnl_week,\n    roi_week,\n    performance_tier\nFROM read_parquet('s3://solana-data/gold/top_traders/**/*.parquet')\nORDER BY first_seen_date DESC\nLIMIT 5\n\"\"\"\n\nrecent = conn.execute(recent_query).df()\nprint(\"🆕 Most Recently Added Traders:\")\nrecent"
  },
  {
   "cell_type": "markdown",
   "metadata": {},
   "source": [
    "## Custom Queries\n",
    "\n",
    "You can write your own SQL queries to explore the data:"
   ]
  },
  {
   "cell_type": "code",
   "metadata": {},
   "outputs": [],
   "source": "# Example: Find traders with high win rate and positive weekly PnL\ncustom_query = \"\"\"\nSELECT \n    wallet_address,\n    win_rate_all,\n    total_pnl_week,\n    trade_count_week,\n    performance_tier\nFROM read_parquet('s3://solana-data/gold/top_traders/**/*.parquet')\nWHERE win_rate_all > 0.6 \n  AND total_pnl_week > 0\n  AND trade_count_week > 0\nORDER BY total_pnl_week DESC\nLIMIT 10\n\"\"\"\n\nhigh_performers = conn.execute(custom_query).df()\nprint(\"🎯 High Win Rate + Positive Weekly PnL:\")\nhigh_performers"
  },
  {
   "cell_type": "code",
   "metadata": {},
   "outputs": [],
   "source": "# Check the schema (all columns)\nschema_query = \"\"\"\nDESCRIBE SELECT * FROM read_parquet('s3://solana-data/gold/top_traders/**/*.parquet')\n\"\"\"\n\nschema = conn.execute(schema_query).df()\nprint(\"📋 Full Schema (28 columns):\")\nfor _, row in schema.iterrows():\n    print(f\"  {row['column_name']}: {row['column_type']}\")"
  },
  {
   "cell_type": "code",
   "execution_count": null,
   "metadata": {},
   "outputs": [],
   "source": [
    "# Close connection when done\n",
    "conn.close()\n",
    "print(\"Connection closed.\")"
   ]
  }
 ],
 "metadata": {
  "kernelspec": {
   "display_name": "Python 3",
   "language": "python",
   "name": "python3"
  },
  "language_info": {
   "codemirror_mode": {
    "name": "ipython",
    "version": 3
   },
   "file_extension": ".py",
   "mimetype": "text/x-python",
   "name": "python",
   "nbconvert_exporter": "python",
   "pygments_lexer": "ipython3",
   "version": "3.11.0"
  }
 },
 "nbformat": 4,
 "nbformat_minor": 4
}